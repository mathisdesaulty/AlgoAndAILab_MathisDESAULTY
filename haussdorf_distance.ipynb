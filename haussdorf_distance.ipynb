{
 "cells": [
  {
   "cell_type": "code",
   "execution_count": 5,
   "metadata": {},
   "outputs": [],
   "source": [
    "from sklearn.datasets import fetch_openml\n",
    "import matplotlib.pyplot as plt\n",
    "import numpy as np\n",
    "\n",
    "\n",
    "# Import MNIST dataset\n",
    "mnist = fetch_openml('mnist_784', version=1)"
   ]
  },
  {
   "cell_type": "code",
   "execution_count": 6,
   "metadata": {},
   "outputs": [],
   "source": [
    "from Object.image_user import ImageUser\n",
    "from Object.math_tool import MathTool"
   ]
  },
  {
   "cell_type": "code",
   "execution_count": 7,
   "metadata": {},
   "outputs": [
    {
     "name": "stdout",
     "output_type": "stream",
     "text": [
      "3.0\n"
     ]
    }
   ],
   "source": [
    "\n",
    "n = 2\n",
    "image = None\n",
    "image2 = None\n",
    "while image is None:\n",
    "    if mnist.target.iloc[n] == '8':\n",
    "        image = mnist.data.iloc[n]\n",
    "    n+=1\n",
    "\n",
    "while image2 is None:\n",
    "    n += 1\n",
    "    if mnist.target.iloc[n] == '8':\n",
    "        image2 = mnist.data.iloc[n]\n",
    "    \n",
    "# to numpyy\n",
    "image = image.to_numpy().reshape(28, 28)\n",
    "image2 = image2.to_numpy().reshape(28, 28)\n",
    "# Binarize the image\n",
    "binarized_image = ImageUser.binarize_image(image, threshold=128)\n",
    "# Find coordinates where pixels are equal to 1\n",
    "binarized_image2 = ImageUser.binarize_image(image2, threshold=128)\n",
    "print(MathTool.hausdorff_distance(binarized_image, binarized_image2))\n"
   ]
  },
  {
   "cell_type": "code",
   "execution_count": 8,
   "metadata": {},
   "outputs": [
    {
     "data": {
      "image/png": "[encoded data removed]",
      "text/plain": [
       "<Figure size 800x400 with 2 Axes>"
      ]
     },
     "metadata": {},
     "output_type": "display_data"
    }
   ],
   "source": [
    "\n",
    "# Plot the original and binarized images\n",
    "plt.figure(figsize=(8, 4))\n",
    "plt.subplot(1, 2, 1)\n",
    "plt.imshow(binarized_image, cmap='gray')\n",
    "plt.title('binarized_image')\n",
    "plt.axis('off')\n",
    "plt.subplot(1, 2, 2)\n",
    "plt.imshow(binarized_image2, cmap='gray')\n",
    "plt.title('binarized_image2')\n",
    "plt.axis('off') \n",
    "plt.suptitle('Hausdorff Distance: {}'.format(MathTool.hausdorff_distance(binarized_image, binarized_image2)))\n",
    "plt.show()\n"
   ]
  }
 ],
 "metadata": {
  "kernelspec": {
   "display_name": "Python 3",
   "language": "python",
   "name": "python3"
  },
  "language_info": {
   "codemirror_mode": {
    "name": "ipython",
    "version": 3
   },
   "file_extension": ".py",
   "mimetype": "text/x-python",
   "name": "python",
   "nbconvert_exporter": "python",
   "pygments_lexer": "ipython3",
   "version": "3.12.5"
  }
 },
 "nbformat": 4,
 "nbformat_minor": 2
}
