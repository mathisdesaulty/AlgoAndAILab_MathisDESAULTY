{
 "cells": [
  {
   "cell_type": "code",
   "execution_count": 1,
   "metadata": {},
   "outputs": [],
   "source": [
    "from sklearn.datasets import fetch_openml\n",
    "import matplotlib.pyplot as plt\n",
    "import numpy as np\n",
    "import os\n",
    "os.chdir('..')\n",
    "\n",
    "\n",
    "# Import MNIST dataset\n",
    "mnist = fetch_openml('mnist_784', version=1)"
   ]
  },
  {
   "cell_type": "code",
   "execution_count": 46,
   "metadata": {},
   "outputs": [],
   "source": [
    "from Object.image_user import ImageUser\n",
    "from Object.math_tool import MathTool"
   ]
  },
  {
   "cell_type": "code",
   "execution_count": 47,
   "metadata": {},
   "outputs": [
    {
     "name": "stdout",
     "output_type": "stream",
     "text": [
      "0.0\n"
     ]
    }
   ],
   "source": [
    "\n",
    "n = 1\n",
    "image = None\n",
    "image2 = None\n",
    "while image is None:\n",
    "    if mnist.target.iloc[n] == '1':\n",
    "        image = mnist.data.iloc[n]\n",
    "    n+=1\n",
    "\n",
    "while image2 is None:\n",
    "    n += 1\n",
    "    if mnist.target.iloc[n] == '2':\n",
    "        image2 = mnist.data.iloc[n]\n",
    "    \n",
    "# to numpyy\n",
    "image = image.to_numpy().reshape(28, 28)\n",
    "image2 = image2.to_numpy().reshape(28, 28)\n",
    "# Binarize the image\n",
    "binarized_image = ImageUser.binarize_image(image, threshold=128)\n",
    "# Find coordinates where pixels are equal to 1\n",
    "binarized_image2 = ImageUser.binarize_image(image2, threshold=128)\n",
    "print(MathTool.hausdorff_distance(binarized_image, binarized_image2))\n"
   ]
  },
  {
   "cell_type": "code",
   "execution_count": 48,
   "metadata": {},
   "outputs": [
    {
     "data": {
      "image/png": "[encoded data removed]",
      "text/plain": [
       "<Figure size 800x400 with 2 Axes>"
      ]
     },
     "metadata": {},
     "output_type": "display_data"
    }
   ],
   "source": [
    "\n",
    "# Plot the original and binarized images\n",
    "plt.figure(figsize=(8, 4))\n",
    "plt.subplot(1, 2, 1)\n",
    "plt.imshow(binarized_image, cmap='gray')\n",
    "plt.title('binarized_image')\n",
    "plt.axis('off')\n",
    "plt.subplot(1, 2, 2)\n",
    "plt.imshow(binarized_image2, cmap='gray')\n",
    "plt.title('binarized_image2')\n",
    "plt.axis('off') \n",
    "plt.suptitle('Hausdorff Distance: {}'.format(MathTool.hausdorff_distance(binarized_image, binarized_image2)))\n",
    "plt.show()\n"
   ]
  },
  {
   "cell_type": "code",
   "execution_count": 49,
   "metadata": {},
   "outputs": [
    {
     "name": "stdout",
     "output_type": "stream",
     "text": [
      "<class 'pandas.core.frame.DataFrame'>\n",
      "<class 'list'>\n",
      "70000\n",
      "<class 'numpy.ndarray'>\n",
      "28\n",
      "28\n",
      "<class 'pandas.core.series.Series'>\n",
      "['5' '0' '4' ... '4' '5' '6']\n"
     ]
    }
   ],
   "source": [
    "images = mnist['data']\n",
    "labels = mnist['target']\n",
    "\n",
    "print(type(images))\n",
    "\n",
    "image_list = [image.reshape(28, 28) for image in images.to_numpy()]\n",
    "\n",
    "# Vérifier le format des images\n",
    "print(type(image_list))  # Devrait être <class 'list'>\n",
    "print(len(image_list))   # Nombre total d'images\n",
    "print(type(image_list[0]))  # Devrait être <class 'list'>\n",
    "print(len(image_list[0]))   # Doit être 28 (hauteur de l'image)\n",
    "print(len(image_list[0][0]))  # Doit être 28 (largeur de l'image)\n",
    "print(type(labels))\n",
    "print(labels.to_numpy())"
   ]
  },
  {
   "cell_type": "code",
   "execution_count": 50,
   "metadata": {},
   "outputs": [],
   "source": [
    "from Object.k_nn_mnist import KNNClassifierMINST\n",
    "\n",
    "knn = KNNClassifierMINST(5,2)\n"
   ]
  },
  {
   "cell_type": "code",
   "execution_count": 51,
   "metadata": {},
   "outputs": [
    {
     "name": "stdout",
     "output_type": "stream",
     "text": [
      "2\n"
     ]
    }
   ],
   "source": [
    "print(len(knn.images))"
   ]
  }
 ],
 "metadata": {
  "kernelspec": {
   "display_name": "Python 3",
   "language": "python",
   "name": "python3"
  },
  "language_info": {
   "codemirror_mode": {
    "name": "ipython",
    "version": 3
   },
   "file_extension": ".py",
   "mimetype": "text/x-python",
   "name": "python",
   "nbconvert_exporter": "python",
   "pygments_lexer": "ipython3",
   "version": "3.12.6"
  }
 },
 "nbformat": 4,
 "nbformat_minor": 2
}
